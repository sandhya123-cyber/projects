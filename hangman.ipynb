{
  "nbformat": 4,
  "nbformat_minor": 0,
  "metadata": {
    "colab": {
      "provenance": [],
      "authorship_tag": "ABX9TyNKUkwiVRqBjW6kQGgE99++",
      "include_colab_link": true
    },
    "kernelspec": {
      "name": "python3",
      "display_name": "Python 3"
    },
    "language_info": {
      "name": "python"
    }
  },
  "cells": [
    {
      "cell_type": "markdown",
      "metadata": {
        "id": "view-in-github",
        "colab_type": "text"
      },
      "source": [
        "<a href=\"https://colab.research.google.com/github/sandhya123-cyber/projects/blob/main/hangman.ipynb\" target=\"_parent\"><img src=\"https://colab.research.google.com/assets/colab-badge.svg\" alt=\"Open In Colab\"/></a>"
      ]
    },
    {
      "cell_type": "code",
      "execution_count": null,
      "metadata": {
        "id": "0c-zRIN2O2bu"
      },
      "outputs": [],
      "source": [
        "# this is the famous Hangman,word guessing game where the no. of guesses are one more than the number of words in the guess"
      ]
    },
    {
      "cell_type": "code",
      "source": [
        "import pandas as pd\n",
        "import numpy as np\n",
        "import random"
      ],
      "metadata": {
        "id": "c8b4OuM9PcF9"
      },
      "execution_count": null,
      "outputs": []
    },
    {
      "cell_type": "code",
      "source": [
        "!pip install colorama==0.4.6\n"
      ],
      "metadata": {
        "id": "hG5HxYtofG50"
      },
      "execution_count": null,
      "outputs": []
    },
    {
      "cell_type": "code",
      "source": [
        "from os import truncate\n",
        "from IPython.display import HTML\n",
        "  # Initialize colorama\n",
        "wordlist=['python','data','science','computer','egypt']\n",
        "worddict={\n",
        "    'python': ['Programming language', 'Used in data science'],\n",
        "    'data': ['Information', 'Facts and figures'],\n",
        "    'science': ['Study of the natural world', 'Experiments and observations'],\n",
        "    'computer': ['Electronic device', 'Processes data'],\n",
        "    'egypt': ['Ancient civilization', 'Pyramids']\n",
        "\n",
        "}\n",
        "clue_count=0\n",
        "display_word=random.choice(wordlist)\n",
        "display_word1=\"_\" * len(display_word)\n",
        "\n",
        "print(\" \".join(display_word1))\n",
        "print()\n",
        "color=\"Green\"\n",
        "text=\"Here is a clue for you\"\n",
        "\n",
        "html_string = f\"<span style='color:{color};'>{text}</span>\"\n",
        "\n",
        "display(HTML(html_string))\n",
        "print()\n",
        "\n",
        "\n",
        "text=worddict[display_word][clue_count]\n",
        "color=\"Blue\"\n",
        "font_size=\"16px\"\n",
        "html_string = f\"<span style='color:{color};font-size:{font_size};'>{text}</span>\"\n",
        "\n",
        "display(HTML(html_string))\n",
        "\n",
        "guess_list=[]\n",
        "Ng=len(display_word)+1\n",
        "print()\n",
        "\n",
        "\n",
        "while (Ng > 0)and (\"_\" in display_word1):\n",
        "\n",
        "    print(\"you have \",Ng,\" chances to guess the word\")\n",
        "    guess=input(\"Guess a letter: \")\n",
        "    guess=guess.lower()\n",
        "\n",
        "    while True:\n",
        "     if (len(guess)!=1) or (guess.isalpha() !=True):\n",
        "        print(\"Please enter a single letter\")\n",
        "        guess=input(\"Guess a letter: \")\n",
        "        guess=guess.lower()\n",
        "        continue\n",
        "     else:\n",
        "        break\n",
        "    if guess in guess_list:\n",
        "        print(\"you have already guessed this letter\")\n",
        "        continue\n",
        "    if guess in display_word:\n",
        "        for i in range(len(display_word)):\n",
        "            if display_word[i]==guess:\n",
        "               display_word1=display_word1[:i]+guess+display_word1[i+1:]\n",
        "               print(\" \".join(display_word1))\n",
        "    else:\n",
        "      print(guess,'is wrong guess')\n",
        "      guess_list.append(guess)\n",
        "      print(\" wrong letters guesssed till now\",guess_list)\n",
        "      clue_count += 1\n",
        "    if clue_count < len(worddict[display_word]) and Ng>2:\n",
        "        print(\"Clue:\", worddict[display_word][clue_count])\n",
        "\n",
        "\n",
        "    Ng=Ng-1\n",
        "\n",
        "if (Ng==0) and  (\"_\"in display_word1):\n",
        "  color=\"Blue\"\n",
        "  text=\"YOU LOST\"\n",
        "  font_family=\"Verdana\"\n",
        "  font_size=\"20px\"\n",
        "  html_string = f\"<span style='color:{color};font-family:{font_family};font-size:{font_size};'>{text}</span>\"\n",
        "\n",
        "  display(HTML(html_string))\n",
        "\n",
        "  print('''\n",
        "        HANG MAN\n",
        "         |  |\n",
        "         .o |\n",
        "        /|\\ |\n",
        "        / \\ | ''')\n",
        "else:\n",
        "  color=\"Red\"\n",
        "  text=\"YOU WON\"\n",
        "  font_family=\"Arial\"\n",
        "  font_size=\"20px\"\n",
        "  html_string = f\"<span style='color:{color};font-family:{font_family};font-size:{font_size};'>{text}</span>\"\n",
        "\n",
        "  display(HTML(html_string))\n",
        "\n",
        "  print('''\n",
        "        W I N N E R\n",
        "          \\o/\n",
        "           |\n",
        "          / \\  ''')"
      ],
      "metadata": {
        "colab": {
          "base_uri": "https://localhost:8080/",
          "height": 565
        },
        "id": "zHCHwJyuPMzu",
        "outputId": "ceb9eeb8-3848-41a0-c7cc-e2fd1c28b8df"
      },
      "execution_count": 33,
      "outputs": [
        {
          "output_type": "stream",
          "name": "stdout",
          "text": [
            "_ _ _ _ _\n",
            "\n"
          ]
        },
        {
          "output_type": "display_data",
          "data": {
            "text/plain": [
              "<IPython.core.display.HTML object>"
            ],
            "text/html": [
              "<span style='color:Green;'>Here is a clue for you</span>"
            ]
          },
          "metadata": {}
        },
        {
          "output_type": "stream",
          "name": "stdout",
          "text": [
            "\n"
          ]
        },
        {
          "output_type": "display_data",
          "data": {
            "text/plain": [
              "<IPython.core.display.HTML object>"
            ],
            "text/html": [
              "<span style='color:Blue;font-size:16px;'>Ancient civilization</span>"
            ]
          },
          "metadata": {}
        },
        {
          "output_type": "stream",
          "name": "stdout",
          "text": [
            "\n",
            "you have  6  chances to guess the word\n",
            "Guess a letter: e\n",
            "e _ _ _ _\n",
            "Clue: Ancient civilization\n",
            "you have  5  chances to guess the word\n",
            "Guess a letter: g\n",
            "e g _ _ _\n",
            "Clue: Ancient civilization\n",
            "you have  4  chances to guess the word\n",
            "Guess a letter: y\n",
            "e g y _ _\n",
            "Clue: Ancient civilization\n",
            "you have  3  chances to guess the word\n",
            "Guess a letter: p\n",
            "e g y p _\n",
            "Clue: Ancient civilization\n",
            "you have  2  chances to guess the word\n",
            "Guess a letter: t\n",
            "e g y p t\n"
          ]
        },
        {
          "output_type": "display_data",
          "data": {
            "text/plain": [
              "<IPython.core.display.HTML object>"
            ],
            "text/html": [
              "<span style='color:Red;font-family:Arial;font-size:20px;'>YOU WON</span>"
            ]
          },
          "metadata": {}
        },
        {
          "output_type": "stream",
          "name": "stdout",
          "text": [
            "\n",
            "        W I N N E R\n",
            "          \\o/ \n",
            "           |  \n",
            "          / \\  \n"
          ]
        }
      ]
    }
  ]
}